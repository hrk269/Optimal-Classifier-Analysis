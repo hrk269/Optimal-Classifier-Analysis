{
 "cells": [
  {
   "cell_type": "markdown",
   "metadata": {},
   "source": [
    "# This Template is created to make grading fair and straightforward. Anything not in the place as mentioned in the template would not be graded.\n",
    "\n",
    "<font color='red'> # NOTE: We would run the notebook through a Plagiarism Checker. If it is found to be copied, your work would not be graded, and the incident would be highlighted to NYU Authorities. </font>"
   ]
  },
  {
   "cell_type": "markdown",
   "metadata": {},
   "source": [
    "# Import Library and Dataset"
   ]
  },
  {
   "cell_type": "code",
   "execution_count": null,
   "metadata": {},
   "outputs": [],
   "source": [
    "from sklearn import preprocessing\n",
    "from sklearn.neighbors import KNeighborsClassifier\n",
    "from sklearn import svm\n",
    "from sklearn.neural_network import MLPClassifier\n",
    "from sklearn.model_selection import train_test_split\n",
    "from sklearn.metrics import accuracy_score\n",
    "from sklearn.preprocessing import StandardScaler\n",
    "from sklearn.metrics import confusion_matrix\n",
    "import pandas as pd"
   ]
  },
  {
   "cell_type": "markdown",
   "metadata": {},
   "source": [
    "# PART I: Preprocessing"
   ]
  },
  {
   "cell_type": "markdown",
   "metadata": {},
   "source": [
    "#### Handling missing values. (If ANY)"
   ]
  },
  {
   "cell_type": "code",
   "execution_count": null,
   "metadata": {},
   "outputs": [],
   "source": [
    "#See report for explanation/reasoning about dealing with missing values"
   ]
  },
  {
   "cell_type": "markdown",
   "metadata": {},
   "source": [
    "#### Feature Datatype Conversion From Numeric to categoric and Vice-versa. (If ANY)"
   ]
  },
  {
   "cell_type": "code",
   "execution_count": null,
   "metadata": {},
   "outputs": [],
   "source": [
    "#For model one - the K Nearest Neighbors\n",
    "\n",
    "data = pd.read_csv(\"./qudditch_training.csv\")\n",
    "Y = data['quidditch_league_player'].values\n",
    "X = data.drop(columns = ['id_num','player_id','gender', 'power_play', 'starfish_and_stick',\n",
    "         'chelmondiston_charge', 'double_eight_loop', 'finbourgh_flick',\n",
    "         'plumpton_pass', 'porskoff_ploy', 'transylvanian_tackle',\n",
    "         'woollongong_shimmy', 'change', 'snitch_caught', 'quidditch_league_player'])\n",
    "\n",
    "le = preprocessing.LabelEncoder()\n",
    "X['house'] = le.fit_transform(X['house'])\n",
    "X['weight'] = le.fit_transform(X['weight'])\n",
    "X['player_code'] = le.fit_transform(X['player_code'])\n",
    "X['move_specialty'] = le.fit_transform(X['move_specialty'])\n",
    "X['player_type'] = le.fit_transform(X['player_type'])\n",
    "X['snitchnip'] = le.fit_transform(X['snitchnip'])\n",
    "X['stooging'] = le.fit_transform(X['stooging'])\n",
    "X['body_blow'] = le.fit_transform(X['body_blow'])\n",
    "X['checking'] = le.fit_transform(X['checking'])\n",
    "X['dopplebeater_defence'] = le.fit_transform(X['dopplebeater_defence'])\n",
    "X['hawkshead_attacking_formation'] = le.fit_transform(X['hawkshead_attacking_formation'])\n",
    "X['no_hands_tackle'] = le.fit_transform(X['no_hands_tackle'])\n",
    "X['sloth_grip_roll'] = le.fit_transform(X['sloth_grip_roll'])\n",
    "X['spiral_dive'] = le.fit_transform(X['spiral_dive'])\n",
    "X['twirl'] = le.fit_transform(X['twirl'])\n",
    "X['wronski_feint'] = le.fit_transform(X['wronski_feint'])\n",
    "X['zig-zag'] = le.fit_transform(X['zig-zag'])\n",
    "X['bludger_backbeat'] = le.fit_transform(X['bludger_backbeat'])\n",
    "X['dionysus_dive'] = le.fit_transform(X['dionysus_dive'])\n",
    "X['reverse_pass'] = le.fit_transform(X['reverse_pass'])\n",
    "X['parkins_pincer'] = le.fit_transform(X['parkins_pincer'])\n",
    "X['parkins_pincer'] = le.fit_transform(X['parkins_pincer'])\n"
   ]
  },
  {
   "cell_type": "markdown",
   "metadata": {},
   "source": [
    "#### Feature Reduction or extraction. (If ANY)"
   ]
  },
  {
   "cell_type": "code",
   "execution_count": null,
   "metadata": {},
   "outputs": [],
   "source": [
    "#For model one - the K Nearest Neighbors\n",
    "\n",
    "data = pd.read_csv(\"./qudditch_training.csv\")\n",
    "Y = data['quidditch_league_player'].values\n",
    "X = data.drop(columns = ['id_num','player_id','gender', 'power_play', 'starfish_and_stick',\n",
    "         'chelmondiston_charge', 'double_eight_loop', 'finbourgh_flick',\n",
    "         'plumpton_pass', 'porskoff_ploy', 'transylvanian_tackle',\n",
    "         'woollongong_shimmy', 'change', 'snitch_caught', 'quidditch_league_player'])\n"
   ]
  },
  {
   "cell_type": "code",
   "execution_count": null,
   "metadata": {},
   "outputs": [],
   "source": [
    "#For model two - the Support Vector Machine/Support Vector Classification\n",
    "\n",
    "data = pd.read_csv(\"./qudditch_training.csv\")\n",
    "Y = data['quidditch_league_player'].values\n",
    "X = data[['age', 'foul_type_id', 'game_move_id', 'penalty_id', 'game_duration',\n",
    "          'num_game_moves', 'num_game_losses', 'num_practice_sessions',\n",
    "          'num_games_satout', 'num_games_injured', 'num_games_notpartof',\n",
    "          'num_games_won']]\n"
   ]
  },
  {
   "cell_type": "code",
   "execution_count": null,
   "metadata": {},
   "outputs": [],
   "source": [
    "#For model three - the Neural Networ/Multi-Layer Perceptron\n",
    "\n",
    "data = pd.read_csv(\"./qudditch_training.csv\")\n",
    "Y = data['quidditch_league_player'].values\n",
    "X = data[['age', 'foul_type_id', 'game_move_id', 'penalty_id', 'game_duration',\n",
    "          'num_game_moves', 'num_game_losses', 'num_practice_sessions',\n",
    "          'num_games_satout', 'num_games_injured', 'num_games_notpartof',\n",
    "          'num_games_won']]\n"
   ]
  },
  {
   "cell_type": "markdown",
   "metadata": {},
   "source": [
    "#### Any other Pre-processing Used. (Give the name along with the code.)"
   ]
  },
  {
   "cell_type": "code",
   "execution_count": null,
   "metadata": {},
   "outputs": [],
   "source": [
    "#Normalization was performed on the training and test data for the Neural Network/Multi-Layer Perceptron\n",
    "\n",
    "data = pd.read_csv(\"./qudditch_training.csv\")\n",
    "Y = data['quidditch_league_player'].values\n",
    "X = data[['age', 'foul_type_id', 'game_move_id', 'penalty_id', 'game_duration',\n",
    "          'num_game_moves', 'num_game_losses', 'num_practice_sessions',\n",
    "          'num_games_satout', 'num_games_injured', 'num_games_notpartof',\n",
    "          'num_games_won']]\n",
    "\n",
    "X_train, X_test, y_train, y_test = train_test_split(X, Y, test_size=0.4, stratify = Y)\n",
    "\n",
    "#In order to eliminate warnings about conversions of ints to floats\n",
    "def warn(*args, **kwargs):\n",
    "    pass\n",
    "import warnings\n",
    "\n",
    "warnings.warn = warn\n",
    "scaler = StandardScaler()\n",
    "scaler.fit(X_train)\n",
    "X_train = scaler.transform(X_train)\n",
    "X_test = scaler.transform(X_test)\n"
   ]
  },
  {
   "cell_type": "markdown",
   "metadata": {},
   "source": [
    "# PART II: Classification"
   ]
  },
  {
   "cell_type": "markdown",
   "metadata": {},
   "source": [
    "### Model 1:\n",
    "Model Name: K Nearest Neighbors<br>\n",
    "Evaluation method and metric used Name: Testing different values of different Parameters; Accuracy and True Postive Rate were the metrics<br>\n",
    "Name of the Hyperparameter used: K (number of nearest neighbors) & Weights (weight function used in prediction)<br>\n"
   ]
  },
  {
   "cell_type": "code",
   "execution_count": 10,
   "metadata": {},
   "outputs": [
    {
     "name": "stdout",
     "output_type": "stream",
     "text": [
      "Prediction accuracy is 95.58337569903405%\n",
      "[[75108  1364]\n",
      " [ 2111    97]]\n",
      "Predicted     NO   YES    All\n",
      "Correct                      \n",
      "NO         75108  1364  76472\n",
      "YES         2111    97   2208\n",
      "All        77219  1461  78680\n"
     ]
    }
   ],
   "source": [
    "data = pd.read_csv(\"./qudditch_training.csv\")\n",
    "Y = data['quidditch_league_player'].values\n",
    "X = data.drop(columns = ['id_num','player_id','gender', 'power_play', 'starfish_and_stick',\n",
    "         'chelmondiston_charge', 'double_eight_loop', 'finbourgh_flick',\n",
    "         'plumpton_pass', 'porskoff_ploy', 'transylvanian_tackle',\n",
    "         'woollongong_shimmy', 'change', 'snitch_caught', 'quidditch_league_player'])\n",
    "\n",
    "le = preprocessing.LabelEncoder()\n",
    "X['house'] = le.fit_transform(X['house'])\n",
    "X['weight'] = le.fit_transform(X['weight'])\n",
    "X['player_code'] = le.fit_transform(X['player_code'])\n",
    "X['move_specialty'] = le.fit_transform(X['move_specialty'])\n",
    "X['player_type'] = le.fit_transform(X['player_type'])\n",
    "X['snitchnip'] = le.fit_transform(X['snitchnip'])\n",
    "X['stooging'] = le.fit_transform(X['stooging'])\n",
    "X['body_blow'] = le.fit_transform(X['body_blow'])\n",
    "X['checking'] = le.fit_transform(X['checking'])\n",
    "X['dopplebeater_defence'] = le.fit_transform(X['dopplebeater_defence'])\n",
    "X['hawkshead_attacking_formation'] = le.fit_transform(X['hawkshead_attacking_formation'])\n",
    "X['no_hands_tackle'] = le.fit_transform(X['no_hands_tackle'])\n",
    "X['sloth_grip_roll'] = le.fit_transform(X['sloth_grip_roll'])\n",
    "X['spiral_dive'] = le.fit_transform(X['spiral_dive'])\n",
    "X['twirl'] = le.fit_transform(X['twirl'])\n",
    "X['wronski_feint'] = le.fit_transform(X['wronski_feint'])\n",
    "X['zig-zag'] = le.fit_transform(X['zig-zag'])\n",
    "X['bludger_backbeat'] = le.fit_transform(X['bludger_backbeat'])\n",
    "X['dionysus_dive'] = le.fit_transform(X['dionysus_dive'])\n",
    "X['reverse_pass'] = le.fit_transform(X['reverse_pass'])\n",
    "X['parkins_pincer'] = le.fit_transform(X['parkins_pincer'])\n",
    "X['parkins_pincer'] = le.fit_transform(X['parkins_pincer'])\n",
    "\n",
    "X_train, X_test, y_train, y_test = train_test_split(X, Y, test_size=0.4, stratify = Y)\n",
    "\n",
    "\n",
    "knn = KNeighborsClassifier(n_neighbors=100, weights = 'uniform')\n",
    "knn.fit(X_train,y_train)\n",
    "\n",
    "y_pred = knn.predict(X_test)\n",
    "print('Prediction accuracy is {}%'.format(accuracy_score(y_test, y_pred) * 100))\n",
    "\n",
    "print(confusion_matrix(y_test, y_pred))\n",
    "print(pd.crosstab(y_test, y_pred, rownames=['Correct'], colnames=['Predicted'], margins=True))\n"
   ]
  },
  {
   "cell_type": "markdown",
   "metadata": {},
   "source": [
    "### Model 2:\n",
    "Model Name: Support Vector Machine/Support Vector Classifier<br>\n",
    "Evaluation method and metric used Name: Testing different values of different Parameters; Accuracy and True Postive Rate were the metrics<br>\n",
    "Name of the Hyperparameter used: Kernel & Gamma (Kernel Coefficient)<br>\n"
   ]
  },
  {
   "cell_type": "code",
   "execution_count": 11,
   "metadata": {},
   "outputs": [
    {
     "name": "stdout",
     "output_type": "stream",
     "text": [
      "Prediction accuracy is 94.43950177935943%\n",
      "[[74074  2398]\n",
      " [ 1977   231]]\n",
      "Predicted     NO   YES    All\n",
      "Correct                      \n",
      "NO         74074  2398  76472\n",
      "YES         1977   231   2208\n",
      "All        76051  2629  78680\n"
     ]
    }
   ],
   "source": [
    "data = pd.read_csv(\"./qudditch_training.csv\")\n",
    "Y = data['quidditch_league_player'].values\n",
    "X = data[['age', 'foul_type_id', 'game_move_id', 'penalty_id', 'game_duration',\n",
    "          'num_game_moves', 'num_game_losses', 'num_practice_sessions',\n",
    "          'num_games_satout', 'num_games_injured', 'num_games_notpartof',\n",
    "          'num_games_won']]\n",
    "\n",
    "X_train, X_test, y_train, y_test = train_test_split(X, Y, test_size=0.4, stratify = Y)\n",
    "\n",
    "model = svm.SVC(kernel='linear')\n",
    "model.fit(X_train, y_train)\n",
    "\n",
    "y_pred = model.predict(X_test)\n",
    "print('Prediction accuracy is {}%'.format(accuracy_score(y_test, y_pred) * 100))\n",
    "\n",
    "print(confusion_matrix(y_test, y_pred))\n",
    "print(pd.crosstab(y_test, y_pred, rownames=['Correct'], colnames=['Predicted'], margins=True))\n"
   ]
  },
  {
   "cell_type": "markdown",
   "metadata": {},
   "source": [
    "### Model 3:\n",
    "Model Name: Neural Network/Multi-Layer Perceptron<br>\n",
    "Evaluation method and metric used Name: Testing different values of different Parameters; Accuracy and True Postive Rate were the metrics<br>\n",
    "Name of the Hyperparameter used: Hidden Layer Size, Activation Function, solver for weight optimization, Learning Rate (alpha), Lambda - L2 penalty (regularization term) parameter<br>\n"
   ]
  },
  {
   "cell_type": "code",
   "execution_count": 25,
   "metadata": {},
   "outputs": [
    {
     "name": "stdout",
     "output_type": "stream",
     "text": [
      "Prediction accuracy is 92.30172852058973%\n",
      "[[72305  4167]\n",
      " [ 1890   318]]\n",
      "Predicted     NO   YES    All\n",
      "Correct                      \n",
      "NO         72305  4167  76472\n",
      "YES         1890   318   2208\n",
      "All        74195  4485  78680\n"
     ]
    }
   ],
   "source": [
    "data = pd.read_csv(\"./qudditch_training.csv\")\n",
    "Y = data['quidditch_league_player'].values\n",
    "X = data[['age', 'foul_type_id', 'game_move_id', 'penalty_id', 'game_duration',\n",
    "          'num_game_moves', 'num_game_losses', 'num_practice_sessions',\n",
    "          'num_games_satout', 'num_games_injured', 'num_games_notpartof',\n",
    "          'num_games_won']]\n",
    "\n",
    "X_train, X_test, y_train, y_test = train_test_split(X, Y, test_size=0.4, stratify = Y)\n",
    "\n",
    "def warn(*args, **kwargs):\n",
    "    pass\n",
    "import warnings\n",
    "warnings.warn = warn\n",
    "scaler = StandardScaler()\n",
    "scaler.fit(X_train)\n",
    "X_train = scaler.transform(X_train)\n",
    "X_test = scaler.transform(X_test)\n",
    "\n",
    "mlp = MLPClassifier(hidden_layer_sizes=(7), activation = 'relu', solver = 'sgd', learning_rate_init = 0.001, alpha = 0.0001, max_iter=3000)\n",
    "mlp.fit(X_train, y_train)\n",
    "\n",
    "y_pred = mlp.predict(X_test)\n",
    "print('Prediction accuracy is {}%'.format(accuracy_score(y_test, y_pred) * 100))\n",
    "\n",
    "print(confusion_matrix(y_test, y_pred))\n",
    "print(pd.crosstab(y_test, y_pred, rownames=['Correct'], colnames=['Predicted'], margins=True))\n"
   ]
  },
  {
   "cell_type": "markdown",
   "metadata": {},
   "source": [
    "# PART III: Best Hypothesis:\n",
    "Model Name: Neural Network/Mulit-Layer Perceptron<br>\n",
    "Reason: High Accuracy and Highest True Positive Rate<br>\n",
    "Hyper-parameter Value: A single hidden layer of size 7, Relu activation function, learning_rate_init = 0.001, sgd solver, and lambda = 0.0001<br>\n"
   ]
  },
  {
   "cell_type": "code",
   "execution_count": null,
   "metadata": {},
   "outputs": [],
   "source": [
    "train = pd.read_csv(\"./qudditch_training.csv\")\n",
    "y_train = train['quidditch_league_player'].values\n",
    "X_train = train[['age', 'foul_type_id', 'game_move_id', 'penalty_id', 'game_duration',\n",
    "          'num_game_moves', 'num_game_losses', 'num_practice_sessions',\n",
    "          'num_games_satout', 'num_games_injured', 'num_games_notpartof',\n",
    "          'num_games_won']]\n",
    "\n",
    "test = pd.read_csv(\"./qudditch_testing_without_target _2_.csv\")\n",
    "X_test = test[['age', 'foul_type_id', 'game_move_id', 'penalty_id', 'game_duration',\n",
    "          'num_game_moves', 'num_game_losses', 'num_practice_sessions',\n",
    "          'num_games_satout', 'num_games_injured', 'num_games_notpartof',\n",
    "          'num_games_won']]\n",
    "\n",
    "output = test[['id_num']]\n",
    "\n",
    "def warn(*args, **kwargs):\n",
    "    pass\n",
    "import warnings\n",
    "warnings.warn = warn\n",
    "scaler = StandardScaler()\n",
    "scaler.fit(X_train)\n",
    "X_train = scaler.transform(X_train)\n",
    "X_test = scaler.transform(X_test)\n",
    "\n",
    "mlp = MLPClassifier(hidden_layer_sizes=(7), activation = 'relu', solver = 'sgd', learning_rate_init = 0.001, alpha = 0.0001, max_iter=3000)\n",
    "mlp.fit(X_train, y_train)\n",
    "\n",
    "y_pred = mlp.predict(X_test)\n",
    "\n",
    "output = pd.concat([output,pd.DataFrame(data = y_pred, columns=['quidditch_league_player'])], axis = 1)\n",
    "output = output[['id_num', 'quidditch_league_player']]\n",
    "output.to_csv('test_outputs.csv', index=False)\n"
   ]
  }
 ],
 "metadata": {
  "kernelspec": {
   "display_name": "Python 3",
   "language": "python",
   "name": "python3"
  },
  "language_info": {
   "codemirror_mode": {
    "name": "ipython",
    "version": 3
   },
   "file_extension": ".py",
   "mimetype": "text/x-python",
   "name": "python",
   "nbconvert_exporter": "python",
   "pygments_lexer": "ipython3",
   "version": "3.6.2"
  }
 },
 "nbformat": 4,
 "nbformat_minor": 2
}
